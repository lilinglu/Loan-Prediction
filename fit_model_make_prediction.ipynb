{
 "cells": [
  {
   "cell_type": "code",
   "execution_count": 5,
   "metadata": {
    "scrolled": true
   },
   "outputs": [],
   "source": [
    "import pandas as pd\n",
    "import numpy as np\n",
    "import matplotlib.pyplot as plt\n",
    "%matplotlib inline\n",
    "from sklearn.model_selection import train_test_split\n",
    "\n",
    "from sklearn.linear_model import LogisticRegression\n",
    "from sklearn.neighbors import KNeighborsClassifier\n",
    "from sklearn.metrics import accuracy_score, precision_score, recall_score, f1_score\n",
    "from sklearn.naive_bayes import GaussianNB\n",
    "from sklearn.naive_bayes import BernoulliNB\n",
    "from sklearn.ensemble import GradientBoostingClassifier\n",
    "#from xgboost import XGBClassifier\n",
    "#xgb=XGBClassifier()\n",
    "from sklearn.ensemble import RandomForestRegressor\n",
    "from sklearn.ensemble import RandomForestClassifier\n",
    "from sklearn.svm import SVC, LinearSVC\n",
    "from sklearn.ensemble import ExtraTreesClassifier\n",
    "from sklearn.model_selection import cross_val_score"
   ]
  },
  {
   "cell_type": "code",
   "execution_count": 6,
   "metadata": {},
   "outputs": [],
   "source": [
    "df= pd.read_csv('cleaned_data.csv')"
   ]
  },
  {
   "cell_type": "code",
   "execution_count": 7,
   "metadata": {},
   "outputs": [
    {
     "data": {
      "text/html": [
       "<div>\n",
       "<style scoped>\n",
       "    .dataframe tbody tr th:only-of-type {\n",
       "        vertical-align: middle;\n",
       "    }\n",
       "\n",
       "    .dataframe tbody tr th {\n",
       "        vertical-align: top;\n",
       "    }\n",
       "\n",
       "    .dataframe thead th {\n",
       "        text-align: right;\n",
       "    }\n",
       "</style>\n",
       "<table border=\"1\" class=\"dataframe\">\n",
       "  <thead>\n",
       "    <tr style=\"text-align: right;\">\n",
       "      <th></th>\n",
       "      <th>Loan ID</th>\n",
       "      <th>Customer ID</th>\n",
       "      <th>Loan Status</th>\n",
       "      <th>Current Loan Amount</th>\n",
       "      <th>Term</th>\n",
       "      <th>Credit Score</th>\n",
       "      <th>Years in current job</th>\n",
       "      <th>Home Ownership</th>\n",
       "      <th>Annual Income</th>\n",
       "      <th>Purpose</th>\n",
       "      <th>Monthly Debt</th>\n",
       "      <th>Years of Credit History</th>\n",
       "      <th>Number of Open Accounts</th>\n",
       "      <th>Number of Credit Problems</th>\n",
       "      <th>Current Credit Balance</th>\n",
       "      <th>Maximum Open Credit</th>\n",
       "      <th>Bankruptcies</th>\n",
       "      <th>Tax Liens</th>\n",
       "    </tr>\n",
       "  </thead>\n",
       "  <tbody>\n",
       "    <tr>\n",
       "      <th>0</th>\n",
       "      <td>0000afa6-8902-4f8f-b870-25a8fdad0aeb</td>\n",
       "      <td>e49c1a82-a0f7-45e8-9f46-2f75c43f9fbc</td>\n",
       "      <td>0</td>\n",
       "      <td>10.111071</td>\n",
       "      <td>Long Term</td>\n",
       "      <td>6.499787</td>\n",
       "      <td>6.0</td>\n",
       "      <td>Rent</td>\n",
       "      <td>10.804177</td>\n",
       "      <td>Business Loan</td>\n",
       "      <td>6.297643</td>\n",
       "      <td>17.6</td>\n",
       "      <td>7</td>\n",
       "      <td>0</td>\n",
       "      <td>9.555631</td>\n",
       "      <td>9.738318</td>\n",
       "      <td>0.0</td>\n",
       "      <td>0.0</td>\n",
       "    </tr>\n",
       "    <tr>\n",
       "      <th>1</th>\n",
       "      <td>00029f9f-0cc5-4d4e-aabc-ea4a7fe74e12</td>\n",
       "      <td>afbc2fa3-3bad-4d48-b691-829aed78bad5</td>\n",
       "      <td>0</td>\n",
       "      <td>9.796542</td>\n",
       "      <td>Short Term</td>\n",
       "      <td>6.553933</td>\n",
       "      <td>0.5</td>\n",
       "      <td>Own Home</td>\n",
       "      <td>10.879436</td>\n",
       "      <td>Debt Consolidation</td>\n",
       "      <td>6.393883</td>\n",
       "      <td>9.9</td>\n",
       "      <td>7</td>\n",
       "      <td>0</td>\n",
       "      <td>8.827321</td>\n",
       "      <td>10.034011</td>\n",
       "      <td>0.0</td>\n",
       "      <td>0.0</td>\n",
       "    </tr>\n",
       "    <tr>\n",
       "      <th>2</th>\n",
       "      <td>00035328-2636-4390-8322-5841de482d2b</td>\n",
       "      <td>28eb75ac-6a09-4057-b73f-726c72ebf933</td>\n",
       "      <td>0</td>\n",
       "      <td>9.359191</td>\n",
       "      <td>Short Term</td>\n",
       "      <td>6.593045</td>\n",
       "      <td>6.0</td>\n",
       "      <td>HaveMortgage</td>\n",
       "      <td>10.472091</td>\n",
       "      <td>Debt Consolidation</td>\n",
       "      <td>6.497016</td>\n",
       "      <td>15.0</td>\n",
       "      <td>12</td>\n",
       "      <td>0</td>\n",
       "      <td>9.746424</td>\n",
       "      <td>9.940012</td>\n",
       "      <td>0.0</td>\n",
       "      <td>0.0</td>\n",
       "    </tr>\n",
       "    <tr>\n",
       "      <th>3</th>\n",
       "      <td>00038a08-f058-4add-a8ed-497b91672a9e</td>\n",
       "      <td>727bb429-dfa1-41c4-a347-23230e23949f</td>\n",
       "      <td>0</td>\n",
       "      <td>9.736842</td>\n",
       "      <td>Long Term</td>\n",
       "      <td>6.599870</td>\n",
       "      <td>3.0</td>\n",
       "      <td>HaveMortgage</td>\n",
       "      <td>10.604330</td>\n",
       "      <td>Debt Consolidation</td>\n",
       "      <td>6.615663</td>\n",
       "      <td>14.9</td>\n",
       "      <td>10</td>\n",
       "      <td>0</td>\n",
       "      <td>10.258150</td>\n",
       "      <td>11.523974</td>\n",
       "      <td>0.0</td>\n",
       "      <td>0.0</td>\n",
       "    </tr>\n",
       "    <tr>\n",
       "      <th>4</th>\n",
       "      <td>0006572c-9567-484d-b49b-bfe06536aa96</td>\n",
       "      <td>c1a7ba66-9f36-4f5c-86cd-1aa7ad68b954</td>\n",
       "      <td>0</td>\n",
       "      <td>9.597506</td>\n",
       "      <td>Short Term</td>\n",
       "      <td>6.608001</td>\n",
       "      <td>3.0</td>\n",
       "      <td>HaveMortgage</td>\n",
       "      <td>11.166074</td>\n",
       "      <td>Debt Consolidation</td>\n",
       "      <td>6.989252</td>\n",
       "      <td>18.0</td>\n",
       "      <td>12</td>\n",
       "      <td>0</td>\n",
       "      <td>10.677662</td>\n",
       "      <td>12.327901</td>\n",
       "      <td>0.0</td>\n",
       "      <td>0.0</td>\n",
       "    </tr>\n",
       "  </tbody>\n",
       "</table>\n",
       "</div>"
      ],
      "text/plain": [
       "                                Loan ID                           Customer ID  \\\n",
       "0  0000afa6-8902-4f8f-b870-25a8fdad0aeb  e49c1a82-a0f7-45e8-9f46-2f75c43f9fbc   \n",
       "1  00029f9f-0cc5-4d4e-aabc-ea4a7fe74e12  afbc2fa3-3bad-4d48-b691-829aed78bad5   \n",
       "2  00035328-2636-4390-8322-5841de482d2b  28eb75ac-6a09-4057-b73f-726c72ebf933   \n",
       "3  00038a08-f058-4add-a8ed-497b91672a9e  727bb429-dfa1-41c4-a347-23230e23949f   \n",
       "4  0006572c-9567-484d-b49b-bfe06536aa96  c1a7ba66-9f36-4f5c-86cd-1aa7ad68b954   \n",
       "\n",
       "   Loan Status  Current Loan Amount        Term  Credit Score  \\\n",
       "0            0            10.111071   Long Term      6.499787   \n",
       "1            0             9.796542  Short Term      6.553933   \n",
       "2            0             9.359191  Short Term      6.593045   \n",
       "3            0             9.736842   Long Term      6.599870   \n",
       "4            0             9.597506  Short Term      6.608001   \n",
       "\n",
       "   Years in current job Home Ownership  Annual Income             Purpose  \\\n",
       "0                   6.0           Rent      10.804177       Business Loan   \n",
       "1                   0.5       Own Home      10.879436  Debt Consolidation   \n",
       "2                   6.0   HaveMortgage      10.472091  Debt Consolidation   \n",
       "3                   3.0   HaveMortgage      10.604330  Debt Consolidation   \n",
       "4                   3.0   HaveMortgage      11.166074  Debt Consolidation   \n",
       "\n",
       "   Monthly Debt  Years of Credit History  Number of Open Accounts  \\\n",
       "0      6.297643                     17.6                        7   \n",
       "1      6.393883                      9.9                        7   \n",
       "2      6.497016                     15.0                       12   \n",
       "3      6.615663                     14.9                       10   \n",
       "4      6.989252                     18.0                       12   \n",
       "\n",
       "   Number of Credit Problems  Current Credit Balance  Maximum Open Credit  \\\n",
       "0                          0                9.555631             9.738318   \n",
       "1                          0                8.827321            10.034011   \n",
       "2                          0                9.746424             9.940012   \n",
       "3                          0               10.258150            11.523974   \n",
       "4                          0               10.677662            12.327901   \n",
       "\n",
       "   Bankruptcies  Tax Liens  \n",
       "0           0.0        0.0  \n",
       "1           0.0        0.0  \n",
       "2           0.0        0.0  \n",
       "3           0.0        0.0  \n",
       "4           0.0        0.0  "
      ]
     },
     "execution_count": 7,
     "metadata": {},
     "output_type": "execute_result"
    }
   ],
   "source": [
    "df.head()"
   ]
  },
  {
   "cell_type": "code",
   "execution_count": 8,
   "metadata": {},
   "outputs": [
    {
     "data": {
      "text/plain": [
       "(215700, 18)"
      ]
     },
     "execution_count": 8,
     "metadata": {},
     "output_type": "execute_result"
    }
   ],
   "source": [
    "df.shape"
   ]
  },
  {
   "cell_type": "code",
   "execution_count": 9,
   "metadata": {
    "scrolled": true
   },
   "outputs": [
    {
     "name": "stdout",
     "output_type": "stream",
     "text": [
      "<class 'pandas.core.frame.DataFrame'>\n",
      "RangeIndex: 215700 entries, 0 to 215699\n",
      "Data columns (total 18 columns):\n",
      "Loan ID                      215700 non-null object\n",
      "Customer ID                  215700 non-null object\n",
      "Loan Status                  215700 non-null int64\n",
      "Current Loan Amount          215700 non-null float64\n",
      "Term                         215700 non-null object\n",
      "Credit Score                 215700 non-null float64\n",
      "Years in current job         215700 non-null float64\n",
      "Home Ownership               215700 non-null object\n",
      "Annual Income                215700 non-null float64\n",
      "Purpose                      215700 non-null object\n",
      "Monthly Debt                 215700 non-null float64\n",
      "Years of Credit History      215700 non-null float64\n",
      "Number of Open Accounts      215700 non-null int64\n",
      "Number of Credit Problems    215700 non-null int64\n",
      "Current Credit Balance       215700 non-null float64\n",
      "Maximum Open Credit          215700 non-null float64\n",
      "Bankruptcies                 215700 non-null float64\n",
      "Tax Liens                    215700 non-null float64\n",
      "dtypes: float64(10), int64(3), object(5)\n",
      "memory usage: 29.6+ MB\n"
     ]
    }
   ],
   "source": [
    "df.info()"
   ]
  },
  {
   "cell_type": "code",
   "execution_count": 10,
   "metadata": {},
   "outputs": [],
   "source": [
    "cleaned_df=df.drop(['Customer ID','Loan ID'],axis=1)"
   ]
  },
  {
   "cell_type": "code",
   "execution_count": 11,
   "metadata": {},
   "outputs": [],
   "source": [
    "cleaned_df=pd.get_dummies(cleaned_df,drop_first=True)"
   ]
  },
  {
   "cell_type": "code",
   "execution_count": 12,
   "metadata": {},
   "outputs": [
    {
     "data": {
      "text/html": [
       "<div>\n",
       "<style scoped>\n",
       "    .dataframe tbody tr th:only-of-type {\n",
       "        vertical-align: middle;\n",
       "    }\n",
       "\n",
       "    .dataframe tbody tr th {\n",
       "        vertical-align: top;\n",
       "    }\n",
       "\n",
       "    .dataframe thead th {\n",
       "        text-align: right;\n",
       "    }\n",
       "</style>\n",
       "<table border=\"1\" class=\"dataframe\">\n",
       "  <thead>\n",
       "    <tr style=\"text-align: right;\">\n",
       "      <th></th>\n",
       "      <th>Loan Status</th>\n",
       "      <th>Current Loan Amount</th>\n",
       "      <th>Credit Score</th>\n",
       "      <th>Years in current job</th>\n",
       "      <th>Annual Income</th>\n",
       "      <th>Monthly Debt</th>\n",
       "      <th>Years of Credit History</th>\n",
       "      <th>Number of Open Accounts</th>\n",
       "      <th>Number of Credit Problems</th>\n",
       "      <th>Current Credit Balance</th>\n",
       "      <th>...</th>\n",
       "      <th>Home Ownership_Own Home</th>\n",
       "      <th>Home Ownership_Rent</th>\n",
       "      <th>Purpose_Buy House</th>\n",
       "      <th>Purpose_Buy a Car</th>\n",
       "      <th>Purpose_Debt Consolidation</th>\n",
       "      <th>Purpose_Educational Expenses</th>\n",
       "      <th>Purpose_Home Improvements</th>\n",
       "      <th>Purpose_Medical Bills</th>\n",
       "      <th>Purpose_Other</th>\n",
       "      <th>Purpose_Take a Trip</th>\n",
       "    </tr>\n",
       "  </thead>\n",
       "  <tbody>\n",
       "    <tr>\n",
       "      <th>0</th>\n",
       "      <td>0</td>\n",
       "      <td>10.111071</td>\n",
       "      <td>6.499787</td>\n",
       "      <td>6.0</td>\n",
       "      <td>10.804177</td>\n",
       "      <td>6.297643</td>\n",
       "      <td>17.6</td>\n",
       "      <td>7</td>\n",
       "      <td>0</td>\n",
       "      <td>9.555631</td>\n",
       "      <td>...</td>\n",
       "      <td>0</td>\n",
       "      <td>1</td>\n",
       "      <td>0</td>\n",
       "      <td>0</td>\n",
       "      <td>0</td>\n",
       "      <td>0</td>\n",
       "      <td>0</td>\n",
       "      <td>0</td>\n",
       "      <td>0</td>\n",
       "      <td>0</td>\n",
       "    </tr>\n",
       "    <tr>\n",
       "      <th>1</th>\n",
       "      <td>0</td>\n",
       "      <td>9.796542</td>\n",
       "      <td>6.553933</td>\n",
       "      <td>0.5</td>\n",
       "      <td>10.879436</td>\n",
       "      <td>6.393883</td>\n",
       "      <td>9.9</td>\n",
       "      <td>7</td>\n",
       "      <td>0</td>\n",
       "      <td>8.827321</td>\n",
       "      <td>...</td>\n",
       "      <td>1</td>\n",
       "      <td>0</td>\n",
       "      <td>0</td>\n",
       "      <td>0</td>\n",
       "      <td>1</td>\n",
       "      <td>0</td>\n",
       "      <td>0</td>\n",
       "      <td>0</td>\n",
       "      <td>0</td>\n",
       "      <td>0</td>\n",
       "    </tr>\n",
       "    <tr>\n",
       "      <th>2</th>\n",
       "      <td>0</td>\n",
       "      <td>9.359191</td>\n",
       "      <td>6.593045</td>\n",
       "      <td>6.0</td>\n",
       "      <td>10.472091</td>\n",
       "      <td>6.497016</td>\n",
       "      <td>15.0</td>\n",
       "      <td>12</td>\n",
       "      <td>0</td>\n",
       "      <td>9.746424</td>\n",
       "      <td>...</td>\n",
       "      <td>0</td>\n",
       "      <td>0</td>\n",
       "      <td>0</td>\n",
       "      <td>0</td>\n",
       "      <td>1</td>\n",
       "      <td>0</td>\n",
       "      <td>0</td>\n",
       "      <td>0</td>\n",
       "      <td>0</td>\n",
       "      <td>0</td>\n",
       "    </tr>\n",
       "    <tr>\n",
       "      <th>3</th>\n",
       "      <td>0</td>\n",
       "      <td>9.736842</td>\n",
       "      <td>6.599870</td>\n",
       "      <td>3.0</td>\n",
       "      <td>10.604330</td>\n",
       "      <td>6.615663</td>\n",
       "      <td>14.9</td>\n",
       "      <td>10</td>\n",
       "      <td>0</td>\n",
       "      <td>10.258150</td>\n",
       "      <td>...</td>\n",
       "      <td>0</td>\n",
       "      <td>0</td>\n",
       "      <td>0</td>\n",
       "      <td>0</td>\n",
       "      <td>1</td>\n",
       "      <td>0</td>\n",
       "      <td>0</td>\n",
       "      <td>0</td>\n",
       "      <td>0</td>\n",
       "      <td>0</td>\n",
       "    </tr>\n",
       "    <tr>\n",
       "      <th>4</th>\n",
       "      <td>0</td>\n",
       "      <td>9.597506</td>\n",
       "      <td>6.608001</td>\n",
       "      <td>3.0</td>\n",
       "      <td>11.166074</td>\n",
       "      <td>6.989252</td>\n",
       "      <td>18.0</td>\n",
       "      <td>12</td>\n",
       "      <td>0</td>\n",
       "      <td>10.677662</td>\n",
       "      <td>...</td>\n",
       "      <td>0</td>\n",
       "      <td>0</td>\n",
       "      <td>0</td>\n",
       "      <td>0</td>\n",
       "      <td>1</td>\n",
       "      <td>0</td>\n",
       "      <td>0</td>\n",
       "      <td>0</td>\n",
       "      <td>0</td>\n",
       "      <td>0</td>\n",
       "    </tr>\n",
       "  </tbody>\n",
       "</table>\n",
       "<p>5 rows × 24 columns</p>\n",
       "</div>"
      ],
      "text/plain": [
       "   Loan Status  Current Loan Amount  Credit Score  Years in current job  \\\n",
       "0            0            10.111071      6.499787                   6.0   \n",
       "1            0             9.796542      6.553933                   0.5   \n",
       "2            0             9.359191      6.593045                   6.0   \n",
       "3            0             9.736842      6.599870                   3.0   \n",
       "4            0             9.597506      6.608001                   3.0   \n",
       "\n",
       "   Annual Income  Monthly Debt  Years of Credit History  \\\n",
       "0      10.804177      6.297643                     17.6   \n",
       "1      10.879436      6.393883                      9.9   \n",
       "2      10.472091      6.497016                     15.0   \n",
       "3      10.604330      6.615663                     14.9   \n",
       "4      11.166074      6.989252                     18.0   \n",
       "\n",
       "   Number of Open Accounts  Number of Credit Problems  Current Credit Balance  \\\n",
       "0                        7                          0                9.555631   \n",
       "1                        7                          0                8.827321   \n",
       "2                       12                          0                9.746424   \n",
       "3                       10                          0               10.258150   \n",
       "4                       12                          0               10.677662   \n",
       "\n",
       "          ...           Home Ownership_Own Home  Home Ownership_Rent  \\\n",
       "0         ...                                 0                    1   \n",
       "1         ...                                 1                    0   \n",
       "2         ...                                 0                    0   \n",
       "3         ...                                 0                    0   \n",
       "4         ...                                 0                    0   \n",
       "\n",
       "   Purpose_Buy House  Purpose_Buy a Car  Purpose_Debt Consolidation  \\\n",
       "0                  0                  0                           0   \n",
       "1                  0                  0                           1   \n",
       "2                  0                  0                           1   \n",
       "3                  0                  0                           1   \n",
       "4                  0                  0                           1   \n",
       "\n",
       "   Purpose_Educational Expenses  Purpose_Home Improvements  \\\n",
       "0                             0                          0   \n",
       "1                             0                          0   \n",
       "2                             0                          0   \n",
       "3                             0                          0   \n",
       "4                             0                          0   \n",
       "\n",
       "   Purpose_Medical Bills  Purpose_Other  Purpose_Take a Trip  \n",
       "0                      0              0                    0  \n",
       "1                      0              0                    0  \n",
       "2                      0              0                    0  \n",
       "3                      0              0                    0  \n",
       "4                      0              0                    0  \n",
       "\n",
       "[5 rows x 24 columns]"
      ]
     },
     "execution_count": 12,
     "metadata": {},
     "output_type": "execute_result"
    }
   ],
   "source": [
    "cleaned_df.head()"
   ]
  },
  {
   "cell_type": "code",
   "execution_count": 13,
   "metadata": {
    "scrolled": true
   },
   "outputs": [
    {
     "data": {
      "text/plain": [
       "Loan Status                     1.000000\n",
       "Credit Score                    0.279202\n",
       "Term_Short Term                 0.158569\n",
       "Annual Income                   0.089923\n",
       "Current Loan Amount             0.056667\n",
       "Home Ownership_Rent             0.052967\n",
       "Maximum Open Credit             0.036548\n",
       "Years of Credit History         0.030149\n",
       "Monthly Debt                    0.022762\n",
       "Purpose_Buy a Car               0.019681\n",
       "Purpose_Home Improvements       0.018178\n",
       "Number of Open Accounts         0.017602\n",
       "Current Credit Balance          0.011671\n",
       "Tax Liens                       0.010739\n",
       "Number of Credit Problems       0.009090\n",
       "Home Ownership_Own Home         0.006862\n",
       "Years in current job            0.005807\n",
       "Purpose_Medical Bills           0.004362\n",
       "Purpose_Other                   0.003693\n",
       "Purpose_Buy House               0.002251\n",
       "Purpose_Debt Consolidation      0.001182\n",
       "Purpose_Educational Expenses    0.000450\n",
       "Purpose_Take a Trip             0.000357\n",
       "Bankruptcies                    0.000100\n",
       "Name: Loan Status, dtype: float64"
      ]
     },
     "execution_count": 13,
     "metadata": {},
     "output_type": "execute_result"
    }
   ],
   "source": [
    "abs(cleaned_df.corr()['Loan Status']).sort_values(ascending=False)"
   ]
  },
  {
   "cell_type": "code",
   "execution_count": 14,
   "metadata": {},
   "outputs": [],
   "source": [
    "X=cleaned_df.drop('Loan Status',axis=1)"
   ]
  },
  {
   "cell_type": "code",
   "execution_count": 15,
   "metadata": {},
   "outputs": [
    {
     "data": {
      "text/plain": [
       "(215700, 23)"
      ]
     },
     "execution_count": 15,
     "metadata": {},
     "output_type": "execute_result"
    }
   ],
   "source": [
    "X.shape"
   ]
  },
  {
   "cell_type": "code",
   "execution_count": 16,
   "metadata": {},
   "outputs": [],
   "source": [
    "y=cleaned_df['Loan Status']"
   ]
  },
  {
   "cell_type": "markdown",
   "metadata": {},
   "source": [
    "feature selection"
   ]
  },
  {
   "cell_type": "code",
   "execution_count": 17,
   "metadata": {},
   "outputs": [],
   "source": [
    "from sklearn.feature_selection import SelectFromModel"
   ]
  },
  {
   "cell_type": "code",
   "execution_count": 18,
   "metadata": {
    "scrolled": true
   },
   "outputs": [],
   "source": [
    "m=SelectFromModel(RandomForestClassifier(n_estimators=100,random_state=42),threshold='median')"
   ]
  },
  {
   "cell_type": "code",
   "execution_count": 19,
   "metadata": {
    "scrolled": true
   },
   "outputs": [
    {
     "data": {
      "text/plain": [
       "SelectFromModel(estimator=RandomForestClassifier(bootstrap=True, class_weight=None, criterion='gini',\n",
       "            max_depth=None, max_features='auto', max_leaf_nodes=None,\n",
       "            min_impurity_decrease=0.0, min_impurity_split=None,\n",
       "            min_samples_leaf=1, min_samples_split=2,\n",
       "            min_weight_fraction_leaf=0.0, n_estimators=100, n_jobs=None,\n",
       "            oob_score=False, random_state=42, verbose=0, warm_start=False),\n",
       "        max_features=None, norm_order=1, prefit=False, threshold='median')"
      ]
     },
     "execution_count": 19,
     "metadata": {},
     "output_type": "execute_result"
    }
   ],
   "source": [
    "m.fit(X,y)"
   ]
  },
  {
   "cell_type": "code",
   "execution_count": 20,
   "metadata": {},
   "outputs": [],
   "source": [
    "X_selected=m.transform(X)"
   ]
  },
  {
   "cell_type": "code",
   "execution_count": 21,
   "metadata": {},
   "outputs": [
    {
     "data": {
      "text/plain": [
       "numpy.ndarray"
      ]
     },
     "execution_count": 21,
     "metadata": {},
     "output_type": "execute_result"
    }
   ],
   "source": [
    "type(X_selected)"
   ]
  },
  {
   "cell_type": "code",
   "execution_count": 22,
   "metadata": {},
   "outputs": [],
   "source": [
    "X_selected=pd.DataFrame(X_selected)"
   ]
  },
  {
   "cell_type": "code",
   "execution_count": 23,
   "metadata": {
    "scrolled": true
   },
   "outputs": [
    {
     "data": {
      "text/plain": [
       "(215700, 12)"
      ]
     },
     "execution_count": 23,
     "metadata": {},
     "output_type": "execute_result"
    }
   ],
   "source": [
    "X_selected.shape"
   ]
  },
  {
   "cell_type": "code",
   "execution_count": 24,
   "metadata": {},
   "outputs": [
    {
     "data": {
      "text/html": [
       "<div>\n",
       "<style scoped>\n",
       "    .dataframe tbody tr th:only-of-type {\n",
       "        vertical-align: middle;\n",
       "    }\n",
       "\n",
       "    .dataframe tbody tr th {\n",
       "        vertical-align: top;\n",
       "    }\n",
       "\n",
       "    .dataframe thead th {\n",
       "        text-align: right;\n",
       "    }\n",
       "</style>\n",
       "<table border=\"1\" class=\"dataframe\">\n",
       "  <thead>\n",
       "    <tr style=\"text-align: right;\">\n",
       "      <th></th>\n",
       "      <th>0</th>\n",
       "      <th>1</th>\n",
       "      <th>2</th>\n",
       "      <th>3</th>\n",
       "      <th>4</th>\n",
       "      <th>5</th>\n",
       "      <th>6</th>\n",
       "      <th>7</th>\n",
       "      <th>8</th>\n",
       "      <th>9</th>\n",
       "      <th>10</th>\n",
       "      <th>11</th>\n",
       "    </tr>\n",
       "  </thead>\n",
       "  <tbody>\n",
       "    <tr>\n",
       "      <th>0</th>\n",
       "      <td>10.111071</td>\n",
       "      <td>6.499787</td>\n",
       "      <td>6.0</td>\n",
       "      <td>10.804177</td>\n",
       "      <td>6.297643</td>\n",
       "      <td>17.6</td>\n",
       "      <td>7.0</td>\n",
       "      <td>0.0</td>\n",
       "      <td>9.555631</td>\n",
       "      <td>9.738318</td>\n",
       "      <td>0.0</td>\n",
       "      <td>1.0</td>\n",
       "    </tr>\n",
       "    <tr>\n",
       "      <th>1</th>\n",
       "      <td>9.796542</td>\n",
       "      <td>6.553933</td>\n",
       "      <td>0.5</td>\n",
       "      <td>10.879436</td>\n",
       "      <td>6.393883</td>\n",
       "      <td>9.9</td>\n",
       "      <td>7.0</td>\n",
       "      <td>0.0</td>\n",
       "      <td>8.827321</td>\n",
       "      <td>10.034011</td>\n",
       "      <td>1.0</td>\n",
       "      <td>0.0</td>\n",
       "    </tr>\n",
       "    <tr>\n",
       "      <th>2</th>\n",
       "      <td>9.359191</td>\n",
       "      <td>6.593045</td>\n",
       "      <td>6.0</td>\n",
       "      <td>10.472091</td>\n",
       "      <td>6.497016</td>\n",
       "      <td>15.0</td>\n",
       "      <td>12.0</td>\n",
       "      <td>0.0</td>\n",
       "      <td>9.746424</td>\n",
       "      <td>9.940012</td>\n",
       "      <td>1.0</td>\n",
       "      <td>0.0</td>\n",
       "    </tr>\n",
       "    <tr>\n",
       "      <th>3</th>\n",
       "      <td>9.736842</td>\n",
       "      <td>6.599870</td>\n",
       "      <td>3.0</td>\n",
       "      <td>10.604330</td>\n",
       "      <td>6.615663</td>\n",
       "      <td>14.9</td>\n",
       "      <td>10.0</td>\n",
       "      <td>0.0</td>\n",
       "      <td>10.258150</td>\n",
       "      <td>11.523974</td>\n",
       "      <td>0.0</td>\n",
       "      <td>0.0</td>\n",
       "    </tr>\n",
       "    <tr>\n",
       "      <th>4</th>\n",
       "      <td>9.597506</td>\n",
       "      <td>6.608001</td>\n",
       "      <td>3.0</td>\n",
       "      <td>11.166074</td>\n",
       "      <td>6.989252</td>\n",
       "      <td>18.0</td>\n",
       "      <td>12.0</td>\n",
       "      <td>0.0</td>\n",
       "      <td>10.677662</td>\n",
       "      <td>12.327901</td>\n",
       "      <td>1.0</td>\n",
       "      <td>0.0</td>\n",
       "    </tr>\n",
       "  </tbody>\n",
       "</table>\n",
       "</div>"
      ],
      "text/plain": [
       "          0         1    2          3         4     5     6    7          8   \\\n",
       "0  10.111071  6.499787  6.0  10.804177  6.297643  17.6   7.0  0.0   9.555631   \n",
       "1   9.796542  6.553933  0.5  10.879436  6.393883   9.9   7.0  0.0   8.827321   \n",
       "2   9.359191  6.593045  6.0  10.472091  6.497016  15.0  12.0  0.0   9.746424   \n",
       "3   9.736842  6.599870  3.0  10.604330  6.615663  14.9  10.0  0.0  10.258150   \n",
       "4   9.597506  6.608001  3.0  11.166074  6.989252  18.0  12.0  0.0  10.677662   \n",
       "\n",
       "          9    10   11  \n",
       "0   9.738318  0.0  1.0  \n",
       "1  10.034011  1.0  0.0  \n",
       "2   9.940012  1.0  0.0  \n",
       "3  11.523974  0.0  0.0  \n",
       "4  12.327901  1.0  0.0  "
      ]
     },
     "execution_count": 24,
     "metadata": {},
     "output_type": "execute_result"
    }
   ],
   "source": [
    "X_selected.head()"
   ]
  },
  {
   "cell_type": "code",
   "execution_count": 25,
   "metadata": {},
   "outputs": [],
   "source": [
    "x_train,x_test,y_train,y_test=train_test_split(X_selected,y,test_size=0.2)"
   ]
  },
  {
   "cell_type": "code",
   "execution_count": 26,
   "metadata": {},
   "outputs": [
    {
     "data": {
      "text/plain": [
       "[1, 2, 3]"
      ]
     },
     "execution_count": 26,
     "metadata": {},
     "output_type": "execute_result"
    }
   ],
   "source": [
    "r = [1,2]\n",
    "r.append(3)\n",
    "r"
   ]
  },
  {
   "cell_type": "code",
   "execution_count": 27,
   "metadata": {},
   "outputs": [
    {
     "data": {
      "text/plain": [
       "2.0"
      ]
     },
     "execution_count": 27,
     "metadata": {},
     "output_type": "execute_result"
    }
   ],
   "source": [
    "np.mean(r)"
   ]
  },
  {
   "cell_type": "code",
   "execution_count": 30,
   "metadata": {},
   "outputs": [
    {
     "data": {
      "text/plain": [
       "pandas.core.series.Series"
      ]
     },
     "execution_count": 30,
     "metadata": {},
     "output_type": "execute_result"
    }
   ],
   "source": [
    "type(y)"
   ]
  },
  {
   "cell_type": "code",
   "execution_count": 28,
   "metadata": {},
   "outputs": [],
   "source": [
    "from sklearn.model_selection import StratifiedKFold"
   ]
  },
  {
   "cell_type": "code",
   "execution_count": 29,
   "metadata": {},
   "outputs": [
    {
     "name": "stdout",
     "output_type": "stream",
     "text": [
      "\n",
      "1 of kfold 5\n"
     ]
    },
    {
     "name": "stderr",
     "output_type": "stream",
     "text": [
      "/anaconda3/lib/python3.7/site-packages/sklearn/linear_model/logistic.py:433: FutureWarning: Default solver will be changed to 'lbfgs' in 0.22. Specify a solver to silence this warning.\n",
      "  FutureWarning)\n"
     ]
    },
    {
     "name": "stdout",
     "output_type": "stream",
     "text": [
      "accuracy_score 0.8172735912473054\n",
      "\n",
      "2 of kfold 5\n"
     ]
    },
    {
     "name": "stderr",
     "output_type": "stream",
     "text": [
      "/anaconda3/lib/python3.7/site-packages/sklearn/linear_model/logistic.py:433: FutureWarning: Default solver will be changed to 'lbfgs' in 0.22. Specify a solver to silence this warning.\n",
      "  FutureWarning)\n"
     ]
    },
    {
     "name": "stdout",
     "output_type": "stream",
     "text": [
      "accuracy_score 0.8170143718127029\n",
      "\n",
      "3 of kfold 5\n"
     ]
    },
    {
     "name": "stderr",
     "output_type": "stream",
     "text": [
      "/anaconda3/lib/python3.7/site-packages/sklearn/linear_model/logistic.py:433: FutureWarning: Default solver will be changed to 'lbfgs' in 0.22. Specify a solver to silence this warning.\n",
      "  FutureWarning)\n"
     ]
    },
    {
     "name": "stdout",
     "output_type": "stream",
     "text": [
      "accuracy_score 0.8175011590171535\n",
      "\n",
      "4 of kfold 5\n"
     ]
    },
    {
     "name": "stderr",
     "output_type": "stream",
     "text": [
      "/anaconda3/lib/python3.7/site-packages/sklearn/linear_model/logistic.py:433: FutureWarning: Default solver will be changed to 'lbfgs' in 0.22. Specify a solver to silence this warning.\n",
      "  FutureWarning)\n"
     ]
    },
    {
     "name": "stdout",
     "output_type": "stream",
     "text": [
      "accuracy_score 0.8167130273528048\n",
      "\n",
      "5 of kfold 5\n"
     ]
    },
    {
     "name": "stderr",
     "output_type": "stream",
     "text": [
      "/anaconda3/lib/python3.7/site-packages/sklearn/linear_model/logistic.py:433: FutureWarning: Default solver will be changed to 'lbfgs' in 0.22. Specify a solver to silence this warning.\n",
      "  FutureWarning)\n"
     ]
    },
    {
     "name": "stdout",
     "output_type": "stream",
     "text": [
      "accuracy_score 0.8182387167064605\n",
      "0.8173481732272855\n"
     ]
    }
   ],
   "source": [
    "i=1\n",
    "kf = StratifiedKFold(n_splits=5,random_state=1,shuffle=True) \n",
    "accuracy = []\n",
    "for train_index,test_index in kf.split(X_selected,y):     \n",
    "    print('\\n{} of kfold {}'.format(i,kf.n_splits))     \n",
    "    xtr,xvl = X_selected.loc[train_index],X_selected.loc[test_index]     \n",
    "    ytr,yvl = y[train_index],y[test_index]         \n",
    "    model = LogisticRegression(random_state=1)     \n",
    "    model.fit(xtr, ytr)     \n",
    "    pred_test = model.predict(xvl)     \n",
    "    score = accuracy_score(yvl,pred_test)\n",
    "    accuracy.append(score)\n",
    "    print('accuracy_score',score)     \n",
    "    i+=1 \n",
    "print(np.mean(accuracy))"
   ]
  },
  {
   "cell_type": "code",
   "execution_count": 44,
   "metadata": {},
   "outputs": [],
   "source": [
    "log=LogisticRegression()\n",
    "k=KNeighborsClassifier()\n",
    "g=GaussianNB()\n",
    "b=BernoulliNB()\n",
    "gbc =GradientBoostingClassifier()\n",
    "rgr = RandomForestRegressor(n_estimators=100)\n",
    "svc = SVC()\n",
    "rfc = RandomForestClassifier(n_estimators=10)\n",
    "algorithms=[g,b,k,log,gbc,rgr]\n",
    "names=['GaussianNB','BernoulliNB','KNeighborsClassifier','Logistic','GradientBoost','RandomForest']"
   ]
  },
  {
   "cell_type": "code",
   "execution_count": 45,
   "metadata": {},
   "outputs": [],
   "source": [
    "def cross_validation_fit_predict(X,y,algorithms = algorithms, names = names):\n",
    "    # fit the data\n",
    "    # print metrics\n",
    "    Accuracy = []\n",
    "    F1 = []\n",
    "    for i in range(len(algorithms)):\n",
    "        j=1\n",
    "        kf = StratifiedKFold(n_splits=5,random_state=1,shuffle=True) \n",
    "        accuracy = []\n",
    "        f1 = [] \n",
    "        for train_index,test_index in kf.split(X_selected,y):\n",
    "            '\\n{} of kfold {}'.format(j,kf.n_splits)\n",
    "            xtr,xvl = X_selected.loc[train_index],X_selected.loc[test_index]     \n",
    "            ytr,yvl = y[train_index],y[test_index]         \n",
    "            algorithms[i] = algorithms[i].fit(xtr, ytr)  \n",
    "            pred_test = algorithms[i].predict(xvl)     \n",
    "            score = accuracy_score(yvl,pred_test.round())\n",
    "            f1_val = f1_score(yvl,pred_test.round())\n",
    "            accuracy.append(score)\n",
    "            f1.append(f1_val)\n",
    "            j+=1\n",
    "        mean_score = np.mean(accuracy)\n",
    "        mean_f1 = np.mean(f1)\n",
    "        Accuracy.append(mean_score)\n",
    "        F1.append(mean_f1)\n",
    "            \n",
    "    metrics = pd.DataFrame(columns = ['Accuracy', 'F1'], index = names)\n",
    "    metrics['F1'] = F1\n",
    "    metrics['Accuracy'] = Accuracy\n",
    "    return metrics.sort_values('Accuracy', ascending = False)"
   ]
  },
  {
   "cell_type": "code",
   "execution_count": 46,
   "metadata": {
    "scrolled": true
   },
   "outputs": [
    {
     "data": {
      "text/html": [
       "<div>\n",
       "<style scoped>\n",
       "    .dataframe tbody tr th:only-of-type {\n",
       "        vertical-align: middle;\n",
       "    }\n",
       "\n",
       "    .dataframe tbody tr th {\n",
       "        vertical-align: top;\n",
       "    }\n",
       "\n",
       "    .dataframe thead th {\n",
       "        text-align: right;\n",
       "    }\n",
       "</style>\n",
       "<table border=\"1\" class=\"dataframe\">\n",
       "  <thead>\n",
       "    <tr style=\"text-align: right;\">\n",
       "      <th></th>\n",
       "      <th>Accuracy</th>\n",
       "      <th>F1</th>\n",
       "    </tr>\n",
       "  </thead>\n",
       "  <tbody>\n",
       "    <tr>\n",
       "      <th>GradientBoost</th>\n",
       "      <td>0.824047</td>\n",
       "      <td>0.900695</td>\n",
       "    </tr>\n",
       "    <tr>\n",
       "      <th>RandomForest</th>\n",
       "      <td>0.817714</td>\n",
       "      <td>0.895339</td>\n",
       "    </tr>\n",
       "    <tr>\n",
       "      <th>Logistic</th>\n",
       "      <td>0.817348</td>\n",
       "      <td>0.899089</td>\n",
       "    </tr>\n",
       "    <tr>\n",
       "      <th>BernoulliNB</th>\n",
       "      <td>0.816829</td>\n",
       "      <td>0.899181</td>\n",
       "    </tr>\n",
       "    <tr>\n",
       "      <th>GaussianNB</th>\n",
       "      <td>0.800255</td>\n",
       "      <td>0.883422</td>\n",
       "    </tr>\n",
       "    <tr>\n",
       "      <th>KNeighborsClassifier</th>\n",
       "      <td>0.793523</td>\n",
       "      <td>0.882928</td>\n",
       "    </tr>\n",
       "  </tbody>\n",
       "</table>\n",
       "</div>"
      ],
      "text/plain": [
       "                      Accuracy        F1\n",
       "GradientBoost         0.824047  0.900695\n",
       "RandomForest          0.817714  0.895339\n",
       "Logistic              0.817348  0.899089\n",
       "BernoulliNB           0.816829  0.899181\n",
       "GaussianNB            0.800255  0.883422\n",
       "KNeighborsClassifier  0.793523  0.882928"
      ]
     },
     "execution_count": 46,
     "metadata": {},
     "output_type": "execute_result"
    }
   ],
   "source": [
    "cross_validation_fit_predict(X,y,algorithms = algorithms, names = names)"
   ]
  },
  {
   "cell_type": "code",
   "execution_count": null,
   "metadata": {},
   "outputs": [],
   "source": [
    "\n"
   ]
  }
 ],
 "metadata": {
  "kernelspec": {
   "display_name": "Python 3",
   "language": "python",
   "name": "python3"
  },
  "language_info": {
   "codemirror_mode": {
    "name": "ipython",
    "version": 3
   },
   "file_extension": ".py",
   "mimetype": "text/x-python",
   "name": "python",
   "nbconvert_exporter": "python",
   "pygments_lexer": "ipython3",
   "version": "3.7.1"
  },
  "toc": {
   "base_numbering": 1,
   "nav_menu": {},
   "number_sections": true,
   "sideBar": true,
   "skip_h1_title": false,
   "title_cell": "Table of Contents",
   "title_sidebar": "Contents",
   "toc_cell": false,
   "toc_position": {},
   "toc_section_display": true,
   "toc_window_display": false
  },
  "varInspector": {
   "cols": {
    "lenName": 16,
    "lenType": 16,
    "lenVar": 40
   },
   "kernels_config": {
    "python": {
     "delete_cmd_postfix": "",
     "delete_cmd_prefix": "del ",
     "library": "var_list.py",
     "varRefreshCmd": "print(var_dic_list())"
    },
    "r": {
     "delete_cmd_postfix": ") ",
     "delete_cmd_prefix": "rm(",
     "library": "var_list.r",
     "varRefreshCmd": "cat(var_dic_list()) "
    }
   },
   "types_to_exclude": [
    "module",
    "function",
    "builtin_function_or_method",
    "instance",
    "_Feature"
   ],
   "window_display": false
  }
 },
 "nbformat": 4,
 "nbformat_minor": 2
}
